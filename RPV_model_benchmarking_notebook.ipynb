{
 "cells": [
  {
   "cell_type": "code",
   "execution_count": null,
   "id": "f2c544da-b800-4bbe-9dbd-ff35ae25e8e2",
   "metadata": {},
   "outputs": [],
   "source": [
    "# Download github repository\n",
    "!git clone https://github.com/uw-cmg/RPV_model_benchmarking"
   ]
  },
  {
   "cell_type": "code",
   "execution_count": null,
   "id": "6e9c37f3-18a9-416c-9668-e37c4a6250ab",
   "metadata": {},
   "outputs": [],
   "source": [
    "# Package imports\n",
    "import pandas as pd\n",
    "from RPV_model_benchmarking.models import *\n",
    "from RPV_model_benchmarking.data import *\n",
    "from RPV_model_benchmarking.metrics import *\n",
    "from RPV_model_benchmarking.plots import *"
   ]
  },
  {
   "cell_type": "code",
   "execution_count": null,
   "id": "c0ce255d-f2a4-456c-95fd-b24f96a2789c",
   "metadata": {},
   "outputs": [],
   "source": [
    "# Make all the model predictions on the full dataset\n",
    "\n",
    "df = DataLoader().load_rpv_data()\n",
    "\n",
    "preds, df = EONY().predict(df)\n",
    "\n",
    "preds, df = OWAY().predict(df)\n",
    "\n",
    "preds, df = JOWAY().predict(df, atr2fte=1.38e20, nn_model='Jacobs25')\n",
    "\n",
    "preds, df = E900().predict(df)\n",
    "\n",
    "preds, df = GBR().predict(df) \n",
    "\n",
    "preds, df = GKRR().predict(df)\n",
    "\n",
    "preds, df = EnsembleNN_Jacobs23().predict(df, return_ebars=False)\n",
    "\n",
    "preds, df = EnsembleNN_Jacobs24().predict(df, return_ebars=False)\n",
    "\n",
    "preds, df = EnsembleNN_Jacobs25().predict(df, return_ebars=False)\n"
   ]
  },
  {
   "cell_type": "code",
   "execution_count": null,
   "id": "f85999f7-9cd5-4650-bd09-56f4f7e712b1",
   "metadata": {},
   "outputs": [],
   "source": [
    "# Just keep high fluence data and save the preds file\n",
    "\n",
    "df = Metrics().filter_df(df, column_name='fluence_n_cm2', filter_val=6e19, filter_operation='greater')\n",
    "df = Metrics().filter_df(df, column_name='datatype', filter_val='Plotter', filter_operation='equal')\n",
    "df"
   ]
  },
  {
   "cell_type": "code",
   "execution_count": null,
   "id": "8cb63fa0-9280-4d86-a2bd-4fb8afb50c6c",
   "metadata": {},
   "outputs": [],
   "source": [
    "df.to_csv('RPV_preds_highfluence.csv', index=False)"
   ]
  },
  {
   "cell_type": "code",
   "execution_count": null,
   "id": "be1e88d7-fe35-41a1-a7cf-4019361f61e9",
   "metadata": {},
   "outputs": [],
   "source": [
    "# Get model residuals and noise plot\n",
    "\n",
    "print(df.shape)\n",
    "df = Metrics().filter_df(df, column_name='Measured DT41J  [C]', filter_val=50, filter_operation='greater')\n",
    "print(df.shape)\n",
    "\n",
    "plot_residuals(trues=df['Measured DT41J  [C]'], \n",
    "               preds=df['Jacobs25 NN ensemble predicted TTS (degC)'], \n",
    "               name='Jacobs25')\n",
    "\n",
    "plot_residuals(trues=df['Measured DT41J  [C]'], \n",
    "               preds=df['Jacobs23 NN ensemble predicted TTS (degC)'], \n",
    "               name='Jacobs23')\n",
    "\n",
    "plot_model_noise(trues=df['Measured DT41J  [C]'], noise=9, num_points=df.shape[0])"
   ]
  },
  {
   "cell_type": "code",
   "execution_count": null,
   "id": "3305ba01-d954-4cbb-b285-a1d87b7023d2",
   "metadata": {},
   "outputs": [],
   "source": [
    "# Get the 5fold CV benchmarking results\n",
    "\n",
    "data = Benchmarking().get_5fold_benchmarks(model_name='Jacobs25')\n",
    "data"
   ]
  },
  {
   "cell_type": "code",
   "execution_count": null,
   "id": "d2ac87d2-7b80-49ae-9272-59d42aa9cd1e",
   "metadata": {},
   "outputs": [],
   "source": [
    "# Make best and worst alloy ranking plot\n",
    "\n",
    "df_best, df_best_sort = plot_best_worst_alloys(model_name='Jacobs25', num_alloys=25, metric='RMSE', plot_type='best')\n",
    "\n",
    "df_worst, df_worst_sort = plot_best_worst_alloys(model_name='Jacobs25', num_alloys=25, metric='RMSE', plot_type='worst')"
   ]
  },
  {
   "cell_type": "code",
   "execution_count": null,
   "id": "6ccce417-c0e1-41cd-a677-54970e1d8d41",
   "metadata": {},
   "outputs": [],
   "source": [
    "# Make embrittlement curve\n",
    "\n",
    "plot_embrittlement_curve(df, \n",
    "                         model_name_list=['Jacobs23', 'Jacobs24', 'Jacobs25'], \n",
    "                         flux_list=[3*10**10, 3.68*10**12], \n",
    "                         style='linear', \n",
    "                         num_points=50, \n",
    "                         ymax=350,\n",
    "                        include_ATR2=True)"
   ]
  },
  {
   "cell_type": "code",
   "execution_count": null,
   "id": "bcd42bb0-f416-4c19-aa6a-ba7d2e204fe3",
   "metadata": {},
   "outputs": [],
   "source": [
    "# Make flux effect crossover histogram\n",
    "\n",
    "df = DataLoader().load_rpv_data()\n",
    "\n",
    "model_name_list = ['Jacobs23', 'Jacobs24', 'Jacobs25']\n",
    "fluence = 6*10**19 # 6*10**19, 1*10**20\n",
    "plot_flux_effect_crossover_histogram(df, model_name_list, fluence=fluence, flux_plotter=3*10**10, flux_atr2=3.68*10**12)"
   ]
  },
  {
   "cell_type": "code",
   "execution_count": null,
   "id": "a7d989de-53a7-449c-bc0d-d154c9143ecc",
   "metadata": {},
   "outputs": [],
   "source": [
    "# Make crossplots\n",
    "\n",
    "df = DataLoader().load_rpv_data()\n",
    "\n",
    "plot_crossplot(df, \n",
    "               #model_name_list=['GKRR'],\n",
    "               #crossplot_variable_name = 'at_percent_Cu',\n",
    "               crossplot_variable_name='wt_percent_Cu',\n",
    "               model_name_list=['GBR', 'OWAY', 'Jacobs23'],\n",
    "               crossplot_variable_min=0,\n",
    "               crossplot_variable_max=0.8,\n",
    "               grid_variables = ['wt_percent_Ni'],\n",
    "               grid_values = [[0.4, 0.8, 1.2]],\n",
    "               #grid_variables=['log(flux_n_cm2_sec)', 'wt_percent_Ni'],\n",
    "               #grid_values=[[np.log10(3e10), np.log10(3.68e12)], [0.4, 0.8]],\n",
    "               num_points=50,\n",
    "               ymax=250)"
   ]
  }
 ],
 "metadata": {
  "kernelspec": {
   "display_name": "Python 3 (ipykernel)",
   "language": "python",
   "name": "python3"
  },
  "language_info": {
   "codemirror_mode": {
    "name": "ipython",
    "version": 3
   },
   "file_extension": ".py",
   "mimetype": "text/x-python",
   "name": "python",
   "nbconvert_exporter": "python",
   "pygments_lexer": "ipython3",
   "version": "3.11.10"
  }
 },
 "nbformat": 4,
 "nbformat_minor": 5
}
